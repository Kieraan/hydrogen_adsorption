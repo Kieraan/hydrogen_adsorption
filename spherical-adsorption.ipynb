{
 "cells": [
  {
   "cell_type": "markdown",
   "id": "792dbe5e",
   "metadata": {},
   "source": [
    "Adsorción de hidrógeno"
   ]
  },
  {
   "cell_type": "code",
   "execution_count": 1,
   "id": "d457c298",
   "metadata": {
    "scrolled": true
   },
   "outputs": [],
   "source": [
    "using Plots\n",
    "using DifferentialEquations\n",
    "using Interact\n",
    "using WebIO\n",
    "using Sundials"
   ]
  },
  {
   "cell_type": "markdown",
   "id": "0ed01e09",
   "metadata": {},
   "source": [
    "- El balance de masa será una ecuación diferencial ordinaria para cada nodo. Estamos asumiendo que no hay difusión, y que la convección tiene un efecto de aumentar la presión en todos los puntos del gas atrapado en el medio poroso.\n",
    "\n",
    "Para ilustrar el uso de ecuaciones diferenciales algebraicas (DAE), resolveremos el siguiente sistema que representa un modelo de parámetros agrupados.\n",
    "\n",
    "ODE para la masa de hidrógeno en la fase fluida \n",
    "\n",
    "Ec algebraica para cada nodo porque la temperatura es función del radio: $$ n_A = n_0 \\exp \\left[ {\\left(-\\frac{RT_i}{{\\alpha + \\beta T_i}}\\right)^m \\ln^m\\left(\\frac{p_0}{p}\\right)} \\right]$$\n",
    "\n",
    "$$ f(n_A) =  n_A - n_0 \\exp {\\left(-\\frac{RT}{{\\alpha + \\beta T}}\\right)^m \\ln^m\\left(\\frac{p_0}{p}\\right)}  $$\n",
    "\n",
    "Ecuación diferencial \n",
    "$$\n",
    "\\frac{d \\rho_{H_2}}{d t} = \\frac{\\dot{m}_s}{V \\varepsilon} - \\frac{(1 - \\varepsilon) \\rho_b M_{H_2} }{\\varepsilon} \\frac{d n_A}{d t}\n",
    "$$\n",
    "\n",
    "$$\n",
    "\\frac{\\partial T_i}{\\partial t} = \\frac{k_{eff} \\left( \\frac{1}{r} \\frac{T_{i+1} - T_{i-1}}{\\Delta r} + \\frac{T_{i+1} - 2T_i + T_{i-1}}{\\Delta r^2} \\right) + \\varepsilon \\frac{dP}{dt} - \\alpha \\sqrt{\\ln \\left( \\frac{n_o}{n_a} \\right)} - (1 - \\varepsilon_b) \\rho_b M_g \\frac{\\partial n_a}{\\partial t}}\n",
    "{c_{gb} \\rho_g \\varepsilon + (1 - \\varepsilon) \\rho_b c_{pb}}\n",
    "$$\n",
    "\n"
   ]
  },
  {
   "cell_type": "markdown",
   "id": "f9a5000e",
   "metadata": {},
   "source": []
  },
  {
   "cell_type": "markdown",
   "id": "8a285d49",
   "metadata": {},
   "source": [
    "$n_A$ es u[1], $\\rho_{H2}$ es u[2]"
   ]
  },
  {
   "cell_type": "code",
   "execution_count": 2,
   "id": "42d86eac",
   "metadata": {},
   "outputs": [],
   "source": [
    "# Adsorption \n",
    "ε = 0.49 # Porosity \n",
    "ρ_b = 517.6 # Activated carbon density / kg m^-3\n",
    "MW = 2.0159 * 10^-3 # kg/mol  \n",
    "V = 1.5e-4 # Tank volume\n",
    "ṁₛ = 2.354e-9 # kg / s\n",
    "\n",
    "# Equilibrium parameters\n",
    "R = 8.314 # Gas constant / J / mol / K\n",
    "α = 3080.0 # Isotherm parameter / K\n",
    "β = 18.9 # Isotherm parameter / -\n",
    "p₀ = 1.47e9 # Saturation pressure / Pa\n",
    "n₀ = 71.6 # Cantidad limite de adsorcion (mol kg-1)\n",
    "m = 2.0; # magical parameter"
   ]
  },
  {
   "cell_type": "code",
   "execution_count": null,
   "id": "b07e31a3",
   "metadata": {},
   "outputs": [],
   "source": [
    "# Aditional parameters for lumped model\n",
    "ΔH = 3185 # Isostoric heat of adsorption / J / mol \n",
    "Aₑ = 0.1277 # Heat transfer area / m^2\n",
    "h_f = 36 # Heat transfer coefficient / W / m^2 / K \n",
    "cₚₛ = 10167 # Heat capacity of the hydrogen / J / kg / K\n",
    "cₚ_b = 825 # Heat capacity of the activated carbon / J / kg / K\n",
    "hₛ = 3986.8 # Enthalpy of the hydrogen / J / kg\n",
    "T_f = 293.15 # Temperature of the exterior / K"
   ]
  },
  {
   "cell_type": "code",
   "execution_count": 3,
   "id": "5d9b9126",
   "metadata": {},
   "outputs": [
    {
     "data": {
      "text/plain": [
       "298.15"
      ]
     },
     "metadata": {},
     "output_type": "display_data"
    }
   ],
   "source": [
    "# Spherical Tank parameters\n",
    "n = 101 # Number of points\n",
    "r = 0.01 # m\n",
    "Δr = LinRange(0, r, n) # m \n",
    "T₀ = 25 + 273.15 # Initial temperature / K\n",
    "#T = ones(n) * T₀; # Temperature vector / "
   ]
  },
  {
   "cell_type": "markdown",
   "id": "b4abb5ab",
   "metadata": {},
   "source": [
    "Para mejoras futuras\n",
    "\n",
    "http://www.coolprop.org/coolprop/wrappers/Julia/"
   ]
  },
  {
   "cell_type": "code",
   "execution_count": 8,
   "id": "7390d894",
   "metadata": {},
   "outputs": [
    {
     "data": {
      "text/plain": [
       "adsorption (generic function with 1 method)"
      ]
     },
     "metadata": {},
     "output_type": "display_data"
    }
   ],
   "source": [
    "function adsorption(out, du, u, par, t)\n",
    "    # Unpacking variables\n",
    "    # T = u[1:n]\n",
    "    # rho = u[n+1:2n]\n",
    "    # n_a = u[2n+1:3n]\n",
    "    nₐ, ρ, p, T = u\n",
    "    \n",
    "    # Should be a vector with n-nodes\n",
    "    out[1] = nₐ - n₀ * exp( - (R*T/(α+β*T))^m * (log(p₀/p))^m ) \n",
    "    \n",
    "    # H2 mass balance\n",
    "    out[2] = du[2] - ( ṁₛ/(V*ε) - (1-ε)/(ε) * ρ_b * MW * du[1] ) \n",
    "    \n",
    "    # p-rho-T through ideal gas\n",
    "    out[3] = p - ρ*R*T / MW\n",
    "    \n",
    "    # Energy balance\n",
    "    # Space discretized temperature differential equation\n",
    "    out[4] = du[4] - (keff * (1/r * (T[i+1] - T[i-1])/Δr + \n",
    "    (T[i+1] - 2*T[i] + T[i-1])/Δr^2) + \n",
    "    ε * du[3] - α * sqrt(log(n₀/nₐ)) -\n",
    "     (1 - ε_b) * ρ_b * M_g * dnₐ/dt) / (c_gb * ρ_g * ε + (1 - ε) * ρ_b * c_pb)\n",
    "    \n",
    "    # print(\"\\n p_calc\", ρ*R*T / MW)\n",
    "    \n",
    "    #print(\"\\nout1\", out[1])\n",
    "    #print(\"\\nout2\", out[2])\n",
    "    #print(\"\\nout3\", out[3])\n",
    "    #print(\"\\np = \",p,\"\\n = rho\",ρ, \"\\nR =\",R,\"\\nT =\",T,\"\\nMW =\",MW)\n",
    "    \n",
    "end"
   ]
  },
  {
   "cell_type": "code",
   "execution_count": 5,
   "id": "f07a7184",
   "metadata": {},
   "outputs": [
    {
     "ename": "UndefVarError",
     "evalue": "UndefVarError: T not defined",
     "output_type": "error",
     "traceback": [
      "UndefVarError: T not defined\n",
      "\n",
      "Stacktrace:\n",
      " [1] top-level scope\n",
      "   @ ~/hydrogen_adsorption/spherical-adsorption.ipynb:3"
     ]
    }
   ],
   "source": [
    "# Hydrogen at 1 atm at the beginning of the charging period\n",
    "pᵢ = 1e5 # Pa\n",
    "ρ₀ = pᵢ/( (R/MW) *T)\n",
    "\n",
    "# Consistent initial conditions for adsorbed mass in hydrogen\n",
    "# this formula MUST be used if no mass transfer coefficient is used\n",
    "# (instantaneous equilibrium)\n",
    "na₀ = n₀ * exp( - (R*T/(α+β*T))^m * (log(p₀/pᵢ))^m ) \n",
    "\n",
    "u₀ = [na₀, ρ₀ , pᵢ, T₀]\n",
    "\n",
    "# Initial estimates of temporal variables\n",
    "du₀ = [1e-4, 1e-4, 1e-4]\n",
    "\n",
    "# Tiempo de integración\n",
    "tspan = (0.0, 3600*100)\n",
    "\n",
    "# Variables that appear explicitely as derivatives du\n",
    "differential_vars = [true, true, true, true]\n",
    "\n",
    "# Differential algebraic problem for sundials\n",
    "prob = DAEProblem(adsorption,du₀,u₀,tspan,differential_vars=differential_vars)\n",
    "\n",
    "sol_2= solve(prob,IDA());"
   ]
  },
  {
   "cell_type": "code",
   "execution_count": 6,
   "id": "28da90bb",
   "metadata": {},
   "outputs": [
    {
     "ename": "UndefVarError",
     "evalue": "UndefVarError: sol_2 not defined",
     "output_type": "error",
     "traceback": [
      "UndefVarError: sol_2 not defined\n",
      "\n",
      "Stacktrace:\n",
      " [1] top-level scope\n",
      "   @ ~/hydrogen_adsorption/spherical-adsorption.ipynb:1"
     ]
    }
   ],
   "source": [
    "plot(sol_2, layout = (3,1))"
   ]
  },
  {
   "cell_type": "code",
   "execution_count": 7,
   "id": "48691a9a",
   "metadata": {},
   "outputs": [],
   "source": []
  }
 ],
 "metadata": {
  "@webio": {
   "lastCommId": "06674c85577c443785f382b500a9aaca",
   "lastKernelId": "39385753-c20d-47e8-80b5-e56a69bd99bf"
  },
  "kernelspec": {
   "display_name": "Julia 1.8.5",
   "language": "julia",
   "name": "julia-1.8"
  },
  "language_info": {
   "file_extension": ".jl",
   "mimetype": "application/julia",
   "name": "julia",
   "version": "1.8.5"
  },
  "varInspector": {
   "cols": {
    "lenName": 16,
    "lenType": 16,
    "lenVar": 40
   },
   "kernels_config": {
    "python": {
     "delete_cmd_postfix": "",
     "delete_cmd_prefix": "del ",
     "library": "var_list.py",
     "varRefreshCmd": "print(var_dic_list())"
    },
    "r": {
     "delete_cmd_postfix": ") ",
     "delete_cmd_prefix": "rm(",
     "library": "var_list.r",
     "varRefreshCmd": "cat(var_dic_list()) "
    }
   },
   "types_to_exclude": [
    "module",
    "function",
    "builtin_function_or_method",
    "instance",
    "_Feature"
   ],
   "window_display": false
  }
 },
 "nbformat": 4,
 "nbformat_minor": 5
}
